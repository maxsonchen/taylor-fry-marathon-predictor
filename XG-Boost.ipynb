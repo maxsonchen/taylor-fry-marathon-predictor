{
 "cells": [
  {
   "cell_type": "code",
   "execution_count": 1,
   "id": "60b1d546-bc43-4f79-8443-c1efdbb861de",
   "metadata": {},
   "outputs": [],
   "source": [
    "# Import Libraries\n",
    "from sklearn.model_selection import train_test_split\n",
    "from sklearn.ensemble import RandomForestClassifier\n",
    "from xgboost import XGBClassifier\n",
    "from sklearn.metrics import classification_report, confusion_matrix\n",
    "import pandas as pd\n",
    "import numpy as np"
   ]
  },
  {
   "cell_type": "code",
   "execution_count": 2,
   "id": "bf3e5a0e-4ba2-4ff0-9329-97389af77c2e",
   "metadata": {},
   "outputs": [],
   "source": [
    "# Import Datasets\n",
    "test_data = pd.read_csv('2025_marathon_data.csv')\n",
    "train_data = pd.read_csv('historical_marathon_dataset.csv')\n",
    "\n",
    "event_vars = pd.read_csv('2025_event_vars.csv')\n",
    "summary_vars = pd.read_csv('event_summary.csv')"
   ]
  },
  {
   "cell_type": "code",
   "execution_count": 3,
   "id": "fef74d51-1ad1-44f4-aa3a-a9d7661fa3a9",
   "metadata": {},
   "outputs": [],
   "source": [
    "# Standardise country names\n",
    "country_mapping = {\n",
    "    'USA': 'United States',\n",
    "    'US': 'United States',\n",
    "    'Australia': 'Australia', \n",
    "    'Aus': 'Australia',\n",
    "    'Australaia': 'Australia',\n",
    "    'kenya': 'Kenya',\n",
    "    '   kenya    ': 'Kenya'\n",
    "}\n",
    "\n",
    "# Apply the mapping to both datasets BEFORE encoding\n",
    "train_data['country'] = train_data['country'].replace(country_mapping)\n",
    "test_data['country'] = test_data['country'].replace(country_mapping)"
   ]
  },
  {
   "cell_type": "code",
   "execution_count": 4,
   "id": "c49d6e64-d82b-41fc-b732-4fe7adbe554f",
   "metadata": {},
   "outputs": [],
   "source": [
    "# Add event conditions to other datasets\n",
    "# train_data\n",
    "train_data = train_data.merge(summary_vars, on='year', how='left')\n",
    "\n",
    "# test_data\n",
    "for col in event_vars.columns:\n",
    "    test_data[col] = event_vars.iloc[0][col]"
   ]
  },
  {
   "cell_type": "code",
   "execution_count": 5,
   "id": "b1f46ca8-cebc-4c83-9e4a-d1a89886c715",
   "metadata": {},
   "outputs": [],
   "source": [
    "# Drop irrelevant column\n",
    "train_data = train_data.drop(columns=['newsletter_registration'])\n",
    "test_data = test_data.drop(columns=['newsletter_registration'])\n",
    "\n",
    "# Setup the feature columns\n",
    "base_features = ['age', 'gender', 'height', 'weight', 'weekly_km', 'country', 'shoe_brand', 'marathons_xp', 'personal_best', 'injured_prev_mth', \n",
    "                  'injured_prev_qtr', 'injured_prev_hy']\n",
    "\n",
    "event_features = [\n",
    "    'temp_10am', 'humidity', 'rainfall', 'elevation_gain',\n",
    "    'hydration_stations', 'stretching_station',\n",
    "    'music_at_start', 'toilet_stations', 'crowding_density',\n",
    "]\n",
    "\n",
    "# Define the predictor columns\n",
    "predictor_cols = (\n",
    "    base_features +\n",
    "    event_features\n",
    ")"
   ]
  },
  {
   "cell_type": "code",
   "execution_count": 6,
   "id": "d0dd32dc-a4ae-4786-af82-d9f32baaf5a5",
   "metadata": {},
   "outputs": [],
   "source": [
    "# Create binary target from availability of medical_km_bin\n",
    "train_data['medical_attn'] = train_data['medical_km_bin'].notna().astype(int)"
   ]
  },
  {
   "cell_type": "code",
   "execution_count": 7,
   "id": "d4a29721-9bd5-4d12-8611-94132e0ae29d",
   "metadata": {},
   "outputs": [],
   "source": [
    "# Label encode categorical variables\n",
    "from sklearn.preprocessing import LabelEncoder\n",
    "\n",
    "categorical_columns = train_data.select_dtypes(include='object').columns.tolist()\n",
    "for col in categorical_columns:\n",
    "    if col in test_data.columns:\n",
    "        le = LabelEncoder()\n",
    "        train_data[col] = le.fit_transform(train_data[col])\n",
    "        result = []\n",
    "        for val in test_data[col]:\n",
    "            if val in le.classes_:\n",
    "                result.append(le.transform([val])[0])\n",
    "            else:\n",
    "                result.append(-1)\n",
    "        test_data[col] = result"
   ]
  },
  {
   "cell_type": "code",
   "execution_count": 8,
   "id": "f861a7bc-ed18-4a41-be18-026d4eece694",
   "metadata": {},
   "outputs": [],
   "source": [
    "# Prepare features and target\n",
    "X = train_data[predictor_cols]\n",
    "y = train_data['medical_attn']\n",
    "\n",
    "# Split into training and validation sets\n",
    "X_train, X_val, y_train, y_val = train_test_split(X, y, test_size=0.2, random_state=42)\n",
    "\n",
    "# Train the model\n",
    "model = XGBClassifier(\n",
    "    n_estimators=400, \n",
    "    max_depth=5, \n",
    "    learning_rate=0.05,\n",
    "    scale_pos_weight=5,\n",
    "    subsample=0.8,\n",
    "    colsample_bytree=0.8,\n",
    "    eval_metric='logloss',\n",
    "    random_state=42\n",
    ")\n",
    "\n",
    "model.fit(X_train, y_train)\n",
    "\n",
    "# Predict on validation set\n",
    "val_preds = model.predict(X_val)\n",
    "\n",
    "# Evaluate\n",
    "conf_matrix = confusion_matrix(y_val, val_preds)\n",
    "class_report = classification_report(y_val, val_preds, output_dict=True)"
   ]
  },
  {
   "cell_type": "code",
   "execution_count": 9,
   "id": "e356f753-6abf-47bc-8b2d-c0d5fe0b1858",
   "metadata": {},
   "outputs": [
    {
     "data": {
      "text/plain": [
       "{'Confusion Matrix': array([[6847, 3714],\n",
       "        [ 927, 1112]]),\n",
       " 'Classification Report': {'0': {'precision': 0.880756367378441,\n",
       "   'recall': 0.6483287567465202,\n",
       "   'f1-score': 0.7468775565857649,\n",
       "   'support': 10561.0},\n",
       "  '1': {'precision': 0.2304185661002901,\n",
       "   'recall': 0.5453653751839137,\n",
       "   'f1-score': 0.3239621267297888,\n",
       "   'support': 2039.0},\n",
       "  'accuracy': 0.6316666666666667,\n",
       "  'macro avg': {'precision': 0.5555874667393655,\n",
       "   'recall': 0.596847065965217,\n",
       "   'f1-score': 0.5354198416577769,\n",
       "   'support': 12600.0},\n",
       "  'weighted avg': {'precision': 0.7755151946160481,\n",
       "   'recall': 0.6316666666666667,\n",
       "   'f1-score': 0.6784390993257383,\n",
       "   'support': 12600.0}},\n",
       " 'Test Predictions (Sample)': array([1, 0, 1, 1, 1, 1, 0, 1, 0, 1])}"
      ]
     },
     "execution_count": 9,
     "metadata": {},
     "output_type": "execute_result"
    }
   ],
   "source": [
    "# Train on full data and predict on test_data\n",
    "X_test = test_data[predictor_cols]\n",
    "final_preds = model.fit(X, y).predict(X_test)\n",
    "\n",
    "# Output results\n",
    "evaluation_results = {\n",
    "    \"Confusion Matrix\": conf_matrix,\n",
    "    \"Classification Report\": class_report,\n",
    "    \"Test Predictions (Sample)\": final_preds[:10]\n",
    "}\n",
    "\n",
    "evaluation_results"
   ]
  },
  {
   "cell_type": "code",
   "execution_count": 10,
   "id": "db227eba-246c-408b-8467-438bbdfcc9f9",
   "metadata": {},
   "outputs": [
    {
     "data": {
      "image/png": "[encoded data removed]",
      "text/plain": [
       "<Figure size 800x600 with 1 Axes>"
      ]
     },
     "metadata": {},
     "output_type": "display_data"
    }
   ],
   "source": [
    "from sklearn.metrics import precision_recall_curve\n",
    "import matplotlib.pyplot as plt\n",
    "import numpy as np\n",
    "\n",
    "# Assuming you have the trained XGBoost model and validation set\n",
    "# Get predicted probabilities for class 1\n",
    "y_scores = model.predict_proba(X_val)[:, 1]\n",
    "\n",
    "# Calculate precision-recall pairs for different probability thresholds\n",
    "precision, recall, thresholds = precision_recall_curve(y_val, y_scores)\n",
    "\n",
    "# Plot the Precision-Recall curve\n",
    "plt.figure(figsize=(8, 6))\n",
    "plt.plot(recall, precision, marker='.', label='XG Boost')\n",
    "plt.xlabel('Recall')\n",
    "plt.ylabel('Precision')\n",
    "plt.title('Precision-Recall Curve')\n",
    "plt.legend()\n",
    "plt.grid(True)\n",
    "plt.tight_layout()\n",
    "plt.show()"
   ]
  },
  {
   "cell_type": "code",
   "execution_count": 11,
   "id": "45e44837-086e-4063-8a99-b7d058d16bc1",
   "metadata": {},
   "outputs": [
    {
     "name": "stdout",
     "output_type": "stream",
     "text": [
      "Threshold selected: 0.57392\n",
      "[[8697 1864]\n",
      " [1020 1019]]\n",
      "              precision    recall  f1-score   support\n",
      "\n",
      "           0       0.90      0.82      0.86     10561\n",
      "           1       0.35      0.50      0.41      2039\n",
      "\n",
      "    accuracy                           0.77     12600\n",
      "   macro avg       0.62      0.66      0.64     12600\n",
      "weighted avg       0.81      0.77      0.79     12600\n",
      "\n"
     ]
    }
   ],
   "source": [
    "from sklearn.metrics import precision_recall_curve\n",
    "\n",
    "# Get probabilities for class 1\n",
    "probs = model.predict_proba(X_val)[:, 1]\n",
    "precision, recall, thresholds = precision_recall_curve(y_val, probs)\n",
    "\n",
    "# Example: find the threshold closest to 0.5 precision and 0.5 recall\n",
    "target_precision = 0.5\n",
    "target_recall = 0.5\n",
    "\n",
    "best_idx = np.argmin(np.abs(precision - target_precision) + np.abs(recall - target_recall))\n",
    "best_threshold = thresholds[best_idx]\n",
    "\n",
    "# Apply threshold\n",
    "final_preds = (probs > best_threshold).astype(int)\n",
    "\n",
    "# Re-evaluate\n",
    "from sklearn.metrics import classification_report, confusion_matrix\n",
    "print(\"Threshold selected:\", best_threshold)\n",
    "print(confusion_matrix(y_val, final_preds))\n",
    "print(classification_report(y_val, final_preds))"
   ]
  },
  {
   "cell_type": "code",
   "execution_count": 12,
   "id": "44fa987e-8a9d-4b33-91b1-14eb1b84261b",
   "metadata": {},
   "outputs": [
    {
     "name": "stdout",
     "output_type": "stream",
     "text": [
      "✅ Best Accuracy: 0.8483 at Threshold: 0.7455\n"
     ]
    }
   ],
   "source": [
    "from sklearn.metrics import accuracy_score\n",
    "\n",
    "# Track best\n",
    "best_accuracy = 0\n",
    "best_threshold = 0\n",
    "\n",
    "# Loop through thresholds from 0.1 to 0.9 (you can refine step size)\n",
    "for t in np.arange(0.1, 0.91, 0.0001):\n",
    "    preds = (probs > t).astype(int)\n",
    "    acc = accuracy_score(y_val, preds)\n",
    "    if acc > best_accuracy:\n",
    "        best_accuracy = acc\n",
    "        best_threshold = t\n",
    "acc_threshold = best_threshold\n",
    "print(f\"✅ Best Accuracy: {best_accuracy:.4f} at Threshold: {best_threshold:.4f}\")"
   ]
  },
  {
   "cell_type": "code",
   "execution_count": 13,
   "id": "b32354a4-c0b6-44b9-b87a-cef418fbf968",
   "metadata": {},
   "outputs": [
    {
     "name": "stdout",
     "output_type": "stream",
     "text": [
      "🎯 Best F1-Score: 0.4208 at Threshold: 0.5500\n"
     ]
    }
   ],
   "source": [
    "from sklearn.metrics import f1_score\n",
    "\n",
    "best_f1 = 0\n",
    "best_threshold = 0\n",
    "\n",
    "for t in np.arange(0.05, 0.91, 0.005):  # Try from 5% to 90% in finer steps\n",
    "    preds = (probs > t).astype(int)\n",
    "    f1 = f1_score(y_val, preds, pos_label=1)  # Focus on class 1\n",
    "    if f1 > best_f1:\n",
    "        best_f1 = f1\n",
    "        best_threshold = t\n",
    "f1_threshold = best_threshold\n",
    "print(f\"🎯 Best F1-Score: {best_f1:.4f} at Threshold: {best_threshold:.4f}\")"
   ]
  },
  {
   "cell_type": "code",
   "execution_count": 14,
   "id": "bb38fb30-16a2-45ab-b455-f00c3a1d642d",
   "metadata": {},
   "outputs": [],
   "source": [
    "# Find average threshold -> Weighed at 60% to f1 score because identifying injuries is more important than false positives\n",
    "threshold_avg = (acc_threshold * 0.4 + f1_threshold * 0.6)\n",
    "# Use model on test data\n",
    "test_copy = test_data.copy()\n",
    "X_test = test_copy[predictor_cols].copy()\n",
    "X_test = X_test.fillna(0)\n",
    "\n",
    "test_probs = model.predict_proba(X_test)[:, 1]\n",
    "test_preds = (test_probs > threshold_avg).astype(int)\n",
    "np.unique(test_preds, return_counts=True)\n",
    "\n",
    "test_copy['medical_attn_pred'] = test_preds"
   ]
  },
  {
   "cell_type": "code",
   "execution_count": 15,
   "id": "cf426776-4326-46a2-8916-4e889c030252",
   "metadata": {},
   "outputs": [
    {
     "name": "stdout",
     "output_type": "stream",
     "text": [
      "Download to medical_attn_pred.csv\n"
     ]
    }
   ],
   "source": [
    "# Download to new CSV with results\n",
    "test_copy.to_csv('Medical_attn_preds.csv', index=False)\n",
    "print(\"Download to medical_attn_pred.csv\")"
   ]
  },
  {
   "cell_type": "code",
   "execution_count": 16,
   "id": "cd69793e-c3ed-4146-bafc-02b379670705",
   "metadata": {},
   "outputs": [
    {
     "ename": "SyntaxError",
     "evalue": "cannot assign to literal (1185854995.py, line 3)",
     "output_type": "error",
     "traceback": [
      "\u001b[1;36m  Cell \u001b[1;32mIn[16], line 3\u001b[1;36m\u001b[0m\n\u001b[1;33m    2024.5 = 183 * 2\u001b[0m\n\u001b[1;37m    ^\u001b[0m\n\u001b[1;31mSyntaxError\u001b[0m\u001b[1;31m:\u001b[0m cannot assign to literal\n"
     ]
    }
   ],
   "source": [
    "# Previous years\n",
    "# 371, 500, 497, 465\n",
    "# 2024.5 = 183 * 2\n",
    "# 2024 = 261 * 2"
   ]
  },
  {
   "cell_type": "markdown",
   "id": "d4bb97c0-f93f-41ca-86c9-c2e9a7c1476a",
   "metadata": {},
   "source": [
    "OTHER STATISTICS"
   ]
  },
  {
   "cell_type": "code",
   "execution_count": null,
   "id": "26ce6761-379c-4f95-91dc-9ec20cdca4d2",
   "metadata": {},
   "outputs": [],
   "source": [
    "# Other Statistics\n",
    "import matplotlib.pyplot as plt\n",
    "importances = model.feature_importances_\n",
    "\n",
    "# Create a DataFrame for easier viewing\n",
    "feature_importance_df = pd.DataFrame({\n",
    "    'feature': predictor_cols,  # using your predictor_cols list\n",
    "    'importance': importances\n",
    "}).sort_values('importance', ascending=False)\n",
    "\n",
    "print(\"Top 10 Most Important Features:\")\n",
    "print(feature_importance_df.head(10))\n",
    "\n",
    "# Visualize the top features\n",
    "plt.figure(figsize=(12, 8))\n",
    "top_features = feature_importance_df.head(15)  # adjust number as needed\n",
    "plt.barh(range(len(top_features)), top_features['importance'])\n",
    "plt.yticks(range(len(top_features)), top_features['feature'])\n",
    "plt.xlabel('Feature Importance')\n",
    "plt.title('Top 15 Most Important Features in XGBoost')\n",
    "plt.gca().invert_yaxis()  # highest importance at top\n",
    "plt.tight_layout()\n",
    "plt.show()"
   ]
  },
  {
   "cell_type": "code",
   "execution_count": null,
   "id": "04535b9e-b6b3-49b3-a11a-09f1578ea200",
   "metadata": {},
   "outputs": [],
   "source": []
  }
 ],
 "metadata": {
  "kernelspec": {
   "display_name": "Python 3 (ipykernel)",
   "language": "python",
   "name": "python3"
  },
  "language_info": {
   "codemirror_mode": {
    "name": "ipython",
    "version": 3
   },
   "file_extension": ".py",
   "mimetype": "text/x-python",
   "name": "python",
   "nbconvert_exporter": "python",
   "pygments_lexer": "ipython3",
   "version": "3.9.13"
  }
 },
 "nbformat": 4,
 "nbformat_minor": 5
}
