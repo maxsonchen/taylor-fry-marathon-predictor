{
 "cells": [
  {
   "cell_type": "code",
   "execution_count": 77,
   "id": "a46b20fc-59a1-4af0-a288-8823792dda36",
   "metadata": {},
   "outputs": [],
   "source": [
    "# Import Libraries\n",
    "from sklearn.model_selection import train_test_split, GridSearchCV\n",
    "from sklearn.metrics import mean_squared_error, mean_absolute_error, r2_score\n",
    "from xgboost import XGBRegressor\n",
    "import pandas as pd\n",
    "import numpy as np"
   ]
  },
  {
   "cell_type": "code",
   "execution_count": 78,
   "id": "edb75ae3-dc12-46ae-ad25-ed92c0c84b40",
   "metadata": {},
   "outputs": [],
   "source": [
    "# Import datasets\n",
    "test_data = pd.read_csv('Medical_attn_preds.csv')\n",
    "train_data = pd.read_csv('historical_marathon_dataset.csv')\n",
    "\n",
    "event_vars = pd.read_csv('2025_event_vars.csv')\n",
    "summary_vars = pd.read_csv('event_summary.csv')"
   ]
  },
  {
   "cell_type": "code",
   "execution_count": 79,
   "id": "38affeed-4f19-4b92-a46d-06299f0fd649",
   "metadata": {},
   "outputs": [],
   "source": [
    "# Add event conditions to other datasets\n",
    "# train_data\n",
    "train_data = train_data.merge(summary_vars, on='year', how='left')\n",
    "\n",
    "# test_data\n",
    "for col in event_vars.columns:\n",
    "    test_data[col] = event_vars.iloc[0][col]"
   ]
  },
  {
   "cell_type": "code",
   "execution_count": 80,
   "id": "e3c66fce-8a9b-4edf-857f-fc35fc64da0a",
   "metadata": {},
   "outputs": [],
   "source": [
    "# Change male and female into 0 and 1\n",
    "train_data['gender'] = train_data['gender'].map({'Male': 1, 'Female': 0})\n",
    "\n",
    "# Remove columns which are unnecessary\n",
    "test_data = test_data.drop(columns=['country', 'shoe_brand', 'injured_prev_mth', 'injured_prev_qtr', 'injured_prev_hy', 'gel_support', 'newsletter_registration'])\n",
    "train_data = train_data.drop(columns=['country', 'shoe_brand', 'injured_prev_mth', 'injured_prev_qtr', 'injured_prev_hy', 'gel_support', 'newsletter_registration'])\n",
    "\n",
    "# Keep only people who will be injured\n",
    "train_data = train_data[train_data['medical_km_bin'].notna()].copy()\n",
    "test_data = test_data[test_data['medical_attn_pred'] != 0]\n",
    "\n",
    "# Add the medical_km to the training data\n",
    "train_data['medical_km'] = train_data['medical_km_bin']"
   ]
  },
  {
   "cell_type": "code",
   "execution_count": 81,
   "id": "7b5cab33-4328-4069-977d-4ea29b5ba9e3",
   "metadata": {},
   "outputs": [],
   "source": [
    "# Setup the feature columns\n",
    "base_features = ['age', 'gender', 'height', 'weight', 'weekly_km', 'marathons_xp', 'personal_best']\n",
    "\n",
    "event_features = [\n",
    "    'temp_10am', 'humidity', 'rainfall', 'elevation_gain',\n",
    "    'hydration_stations', 'stretching_station',\n",
    "    'music_at_start', 'toilet_stations', 'crowding_density',\n",
    "]\n",
    "\n",
    "predictor_cols = (\n",
    "    base_features + \n",
    "    event_features\n",
    ")"
   ]
  },
  {
   "cell_type": "code",
   "execution_count": 89,
   "id": "80beddcc-5b35-405f-9282-9ba180945b29",
   "metadata": {},
   "outputs": [],
   "source": [
    "# Prepare features and target\n",
    "X = train_data[predictor_cols]\n",
    "y = train_data['medical_km']\n",
    "\n",
    "# Split into training and validation sets\n",
    "X_train, X_val, y_train, y_val = train_test_split(X, y, test_size=0.2, random_state=42)\n",
    "\n",
    "# Train the model\n",
    "#model = XGBRegressor(\n",
    "#    n_estimators=2000, \n",
    "#    max_depth=10, \n",
    "#    learning_rate=0.05,\n",
    "#    subsample=0.9,\n",
    "#    colsample_bytree=0.8,\n",
    "#    random_state=42\n",
    "#)\n",
    "\n",
    "#param_grid = {\n",
    "#    'n_estimators': [100, 200, 300, 500],\n",
    "#    'max_depth': [3, 4, 5, 6],\n",
    "#    'learning_rate': [0.01, 0.05, 0.1, 0.2],\n",
    "#   'subsample': [0.8, 0.9],\n",
    "#   'colsample_bytree': [0.8, 0.9, 1.0],\n",
    "#    'reg_alpha': [0, 0.1, 0.5, 1],\n",
    "#    'reg_lambda': [0.1, 0.5, 1, 2]\n",
    "#}\n",
    "\n",
    "#model = XGBRegressor(\n",
    "#    random_state=42, \n",
    "#    n_jobs=-1,\n",
    "#    verbosity=0\n",
    "#)\n",
    "\n",
    "#grid_search = GridSearchCV(\n",
    "#    estimator=model,\n",
    "#    param_grid=param_grid,  # Start with quick grid, then use full param_grid\n",
    "#    scoring='neg_mean_absolute_error',  # Good for distance prediction\n",
    "#    cv=3,  # 5-fold cross-validation\n",
    "#    n_jobs=-1,  # Parallel processing\n",
    "#    verbose=1,  # Show progress\n",
    "#    return_train_score=True\n",
    "#)\n",
    "\n",
    "#grid_search.fit(X_train, y_train)\n",
    "\n",
    "# Get best parameters and score\n",
    "#print(\"\\n\" + \"=\"*50)\n",
    "#print(\"GRID SEARCH RESULTS\")\n",
    "#print(\"=\"*50)\n",
    "#print(f\"Best parameters: {grid_search.best_params_}\")\n",
    "#print(f\"Best cross-validation score (MAE): {-grid_search.best_score_:.4f}\")\n",
    "\n",
    "# Train final model with best parameters\n",
    "#best_model = grid_search.best_estimator_\n",
    "#best_model.fit(X_train, y_train)\n",
    "\n",
    "# Make predictions\n",
    "#y_pred_train = best_model.predict(X_train)\n",
    "#y_pred_test = best_model.predict(X_test)\n",
    "\n",
    "#model.fit(X_train, y_train)\n",
    "\n",
    "# Predict on validation set\n",
    "#val_preds = model.predict(X_val)\n",
    "\n",
    "# Evaluate\n",
    "#mse = mean_squared_error(y_val, val_preds)\n",
    "#mae = mean_absolute_error(y_val, val_preds)\n",
    "\n",
    "#print(f\"📉 MSE: {mse:.2f} km²\")\n",
    "#print(f\"📏 MAE: {mae:.2f} km (average error)\")"
   ]
  },
  {
   "cell_type": "markdown",
   "id": "3ee57e5c-347b-419e-baf0-eb57bffde502",
   "metadata": {},
   "source": [
    "==================================================\n",
    "GRID SEARCH RESULTS\n",
    "==================================================\n",
    "Best parameters: {'colsample_bytree': 1.0, 'learning_rate': 0.01, 'max_depth': 6, 'n_estimators': 100, 'reg_alpha': 0.1, 'reg_lambda': 2, 'subsample': 0.8}\n",
    "Best cross-validation score (MAE): 7.1061"
   ]
  },
  {
   "cell_type": "code",
   "execution_count": 100,
   "id": "087d60d0-b917-4e64-807c-1766edbd6338",
   "metadata": {},
   "outputs": [
    {
     "name": "stdout",
     "output_type": "stream",
     "text": [
      "📉 MSE: 90.31 km²\n",
      "📏 MAE: 7.85 km (average error)\n"
     ]
    }
   ],
   "source": [
    "# Train the model\n",
    "model = XGBRegressor(\n",
    "    n_estimators=2000, \n",
    "    max_depth=10, \n",
    "    learning_rate=0.05,\n",
    "    subsample=0.9,\n",
    "    colsample_bytree=0.8,\n",
    "    random_state=42, \n",
    "    objective='reg:squarederror'\n",
    ")\n",
    "\n",
    "model.fit(X_train, y_train)\n",
    "\n",
    "# Predict on validation set\n",
    "val_preds = model.predict(X_val)\n",
    "\n",
    "# Evaluate\n",
    "mse = mean_squared_error(y_val, val_preds)\n",
    "mae = mean_absolute_error(y_val, val_preds)\n",
    "\n",
    "print(f\"📉 MSE: {mse:.2f} km²\")\n",
    "print(f\"📏 MAE: {mae:.2f} km (average error)\")"
   ]
  },
  {
   "cell_type": "code",
   "execution_count": 105,
   "id": "6dca3542-20b6-4d3c-a83d-cf21121a778e",
   "metadata": {},
   "outputs": [
    {
     "data": {
      "text/plain": [
       "{'MSE Matrix': 90.31191176292162,\n",
       " 'MAE Report': 7.848673162601175,\n",
       " 'Test Predictions (Sample)': array([27.54799 , 25.25686 , 24.882454, 25.620216, 26.25836 , 19.313246,\n",
       "        29.096401, 23.258148, 26.003225, 21.843235], dtype=float32)}"
      ]
     },
     "execution_count": 105,
     "metadata": {},
     "output_type": "execute_result"
    }
   ],
   "source": [
    "# Train on full data and predict on test_data\n",
    "X_test = test_data[predictor_cols]\n",
    "final_preds = model.fit(X, y).predict(X_test)\n",
    "\n",
    "# Add medical_km to test data\n",
    "test_data['medical_km'] = final_preds\n",
    "\n",
    "# Output results\n",
    "evaluation_results = {\n",
    "    \"MSE Matrix\": mse,\n",
    "    \"MAE Report\": mae,\n",
    "    \"Test Predictions (Sample)\": final_preds[:10]\n",
    "}\n",
    "\n",
    "evaluation_results"
   ]
  },
  {
   "cell_type": "code",
   "execution_count": 110,
   "id": "1823588d-b891-49b3-9de9-4ce5b01549c5",
   "metadata": {},
   "outputs": [
    {
     "name": "stdout",
     "output_type": "stream",
     "text": [
      "Downloaded injury_loc.csv\n"
     ]
    }
   ],
   "source": [
    "test_data.to_csv('injury_loc.csv', index=False)\n",
    "print('Downloaded injury_loc.csv')"
   ]
  },
  {
   "cell_type": "markdown",
   "id": "981b5e86-55be-41b6-b107-39cca78af160",
   "metadata": {},
   "source": [
    "OTHER INFO / TESTS"
   ]
  },
  {
   "cell_type": "code",
   "execution_count": 109,
   "id": "8746db7a-b9c3-4192-9ade-6b116edcbea4",
   "metadata": {},
   "outputs": [
    {
     "name": "stdout",
     "output_type": "stream",
     "text": [
      "\n",
      "RESIDUALS ANALYSIS:\n",
      "Mean residual: 0.3721\n",
      "Std residual: 9.4960\n",
      "Skewness: -0.2559\n",
      "Kurtosis: -0.5608\n"
     ]
    },
    {
     "data": {
      "image/png": "[encoded data removed]",
      "text/plain": [
       "<Figure size 1000x600 with 1 Axes>"
      ]
     },
     "metadata": {},
     "output_type": "display_data"
    }
   ],
   "source": [
    "import matplotlib.pyplot as plt\n",
    "import numpy as np\n",
    "\n",
    "# Assuming you have these already:\n",
    "# y_true = actual values\n",
    "# y_pred = predicted values\n",
    "\n",
    "residuals = y_val - val_preds\n",
    "\n",
    "print(f\"\\nRESIDUALS ANALYSIS:\")\n",
    "print(f\"Mean residual: {np.mean(residuals):.4f}\")\n",
    "print(f\"Std residual: {np.std(residuals):.4f}\")\n",
    "print(f\"Skewness: {pd.Series(residuals).skew():.4f}\")\n",
    "print(f\"Kurtosis: {pd.Series(residuals).kurtosis():.4f}\")\n",
    "\n",
    "plt.figure(figsize=(10, 6))\n",
    "plt.hist(residuals, bins=30, edgecolor='black')\n",
    "plt.title('Histogram of Residuals')\n",
    "plt.xlabel('Prediction Error (Residuals)')\n",
    "plt.ylabel('Frequency')\n",
    "plt.axvline(0, color='red', linestyle='--', linewidth=1.5, label='Zero Error')\n",
    "plt.legend()\n",
    "plt.grid(True)\n",
    "plt.tight_layout()\n",
    "plt.show()\n"
   ]
  },
  {
   "cell_type": "code",
   "execution_count": null,
   "id": "a3d9968d-dcac-4621-8d09-130358c521a6",
   "metadata": {},
   "outputs": [],
   "source": []
  }
 ],
 "metadata": {
  "kernelspec": {
   "display_name": "Python 3 (ipykernel)",
   "language": "python",
   "name": "python3"
  },
  "language_info": {
   "codemirror_mode": {
    "name": "ipython",
    "version": 3
   },
   "file_extension": ".py",
   "mimetype": "text/x-python",
   "name": "python",
   "nbconvert_exporter": "python",
   "pygments_lexer": "ipython3",
   "version": "3.9.13"
  }
 },
 "nbformat": 4,
 "nbformat_minor": 5
}
